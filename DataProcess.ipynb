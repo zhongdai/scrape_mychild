{
 "cells": [
  {
   "cell_type": "code",
   "execution_count": 8,
   "metadata": {
    "collapsed": true
   },
   "outputs": [],
   "source": [
    "import pandas as pd\n",
    "import numpy as np"
   ]
  },
  {
   "cell_type": "code",
   "execution_count": 9,
   "metadata": {
    "collapsed": true
   },
   "outputs": [],
   "source": [
    "data = pd.read_json('all.json', orient='records')"
   ]
  },
  {
   "cell_type": "code",
   "execution_count": 10,
   "metadata": {
    "collapsed": false
   },
   "outputs": [
    {
     "data": {
      "text/html": [
       "<div>\n",
       "<table border=\"1\" class=\"dataframe\">\n",
       "  <thead>\n",
       "    <tr style=\"text-align: right;\">\n",
       "      <th></th>\n",
       "      <th>address</th>\n",
       "      <th>category</th>\n",
       "      <th>email</th>\n",
       "      <th>name</th>\n",
       "      <th>phone</th>\n",
       "      <th>web</th>\n",
       "    </tr>\n",
       "  </thead>\n",
       "  <tbody>\n",
       "    <tr>\n",
       "      <th>0</th>\n",
       "      <td>1 Margaret Street, SMITHTON TAS 7330</td>\n",
       "      <td>Long Day Care</td>\n",
       "      <td>director@chccc.com.au</td>\n",
       "      <td>Circular Head Child Care Centre</td>\n",
       "      <td>(03) 6452 2626</td>\n",
       "      <td>NaN</td>\n",
       "    </tr>\n",
       "    <tr>\n",
       "      <th>1</th>\n",
       "      <td>34 Wragg St, SOMERSET TAS 7322</td>\n",
       "      <td>Family Day Care</td>\n",
       "      <td>admin@coastalfdc.org</td>\n",
       "      <td>Coastal Family Day Care Scheme Inc</td>\n",
       "      <td>(03) 6435 3322</td>\n",
       "      <td>http://www.coastalfdc.org</td>\n",
       "    </tr>\n",
       "    <tr>\n",
       "      <th>2</th>\n",
       "      <td>422 Mengah Road, FOREST TAS 7330</td>\n",
       "      <td>After School Care</td>\n",
       "      <td>director@chccc.com.au</td>\n",
       "      <td>Forest After School Care</td>\n",
       "      <td>0429 936 239</td>\n",
       "      <td>NaN</td>\n",
       "    </tr>\n",
       "    <tr>\n",
       "      <th>3</th>\n",
       "      <td>19 Smith St, SMITHTON TAS 7330</td>\n",
       "      <td>Long Day Care</td>\n",
       "      <td>gigglesearlylearning@gmail.com</td>\n",
       "      <td>Giggles Early Learning</td>\n",
       "      <td>(03) 6452 1150</td>\n",
       "      <td>NaN</td>\n",
       "    </tr>\n",
       "    <tr>\n",
       "      <th>4</th>\n",
       "      <td>19 Smith St, SMITHTON TAS 7330</td>\n",
       "      <td>After School Care</td>\n",
       "      <td>gigglesearlylearning@gmail.com</td>\n",
       "      <td>Giggles Early Learning OSHC</td>\n",
       "      <td>0439 545 760</td>\n",
       "      <td>NaN</td>\n",
       "    </tr>\n",
       "  </tbody>\n",
       "</table>\n",
       "</div>"
      ],
      "text/plain": [
       "                                address           category  \\\n",
       "0  1 Margaret Street, SMITHTON TAS 7330      Long Day Care   \n",
       "1        34 Wragg St, SOMERSET TAS 7322    Family Day Care   \n",
       "2      422 Mengah Road, FOREST TAS 7330  After School Care   \n",
       "3        19 Smith St, SMITHTON TAS 7330      Long Day Care   \n",
       "4        19 Smith St, SMITHTON TAS 7330  After School Care   \n",
       "\n",
       "                            email                                name  \\\n",
       "0           director@chccc.com.au     Circular Head Child Care Centre   \n",
       "1            admin@coastalfdc.org  Coastal Family Day Care Scheme Inc   \n",
       "2           director@chccc.com.au            Forest After School Care   \n",
       "3  gigglesearlylearning@gmail.com              Giggles Early Learning   \n",
       "4  gigglesearlylearning@gmail.com         Giggles Early Learning OSHC   \n",
       "\n",
       "            phone                        web  \n",
       "0  (03) 6452 2626                        NaN  \n",
       "1  (03) 6435 3322  http://www.coastalfdc.org  \n",
       "2    0429 936 239                        NaN  \n",
       "3  (03) 6452 1150                        NaN  \n",
       "4    0439 545 760                        NaN  "
      ]
     },
     "execution_count": 10,
     "metadata": {},
     "output_type": "execute_result"
    }
   ],
   "source": [
    "data.head()"
   ]
  },
  {
   "cell_type": "code",
   "execution_count": 17,
   "metadata": {
    "collapsed": false
   },
   "outputs": [
    {
     "data": {
      "text/plain": [
       "219017"
      ]
     },
     "execution_count": 17,
     "metadata": {},
     "output_type": "execute_result"
    }
   ],
   "source": [
    "# total number of CC with an email address\n",
    "len(data) - len(data[data.email.isnull()])"
   ]
  }
 ],
 "metadata": {
  "kernelspec": {
   "display_name": "Python 3.6 Data",
   "language": "python",
   "name": "py36data"
  },
  "language_info": {
   "codemirror_mode": {
    "name": "ipython",
    "version": 3
   },
   "file_extension": ".py",
   "mimetype": "text/x-python",
   "name": "python",
   "nbconvert_exporter": "python",
   "pygments_lexer": "ipython3",
   "version": "3.6.0"
  }
 },
 "nbformat": 4,
 "nbformat_minor": 2
}
